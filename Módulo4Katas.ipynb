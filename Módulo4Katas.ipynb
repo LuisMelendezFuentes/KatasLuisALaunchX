{
 "cells": [
  {
   "cell_type": "markdown",
   "metadata": {},
   "source": [
    "# Ejercicio 1: Transformar cadenas\n"
   ]
  },
  {
   "cell_type": "code",
   "execution_count": 6,
   "metadata": {},
   "outputs": [
    {
     "data": {
      "text/plain": [
       "['Interesting facts about the Moon',\n",
       " \"The Moon is Earth's only satellite\",\n",
       " 'There are several interesting facts about the Moon and how it affects life here on Earth',\n",
       " '\\nOn average, the Moon moves 4cm away from the Earth every year',\n",
       " 'This yearly drift is not significant enough to cause immediate effects on Earth',\n",
       " 'The high']"
      ]
     },
     "execution_count": 6,
     "metadata": {},
     "output_type": "execute_result"
    }
   ],
   "source": [
    "text = \"\"\"Interesting facts about the Moon. The Moon is Earth's only satellite. There are several interesting facts about the Moon and how it affects life here on Earth. \n",
    "On average, the Moon moves 4cm away from the Earth every year. This yearly drift is not significant enough to cause immediate effects on Earth. The high\"\"\"\n",
    "\n",
    "text_parts = text.split('. ')\n",
    "text_parts"
   ]
  },
  {
   "cell_type": "code",
   "execution_count": 7,
   "metadata": {},
   "outputs": [],
   "source": [
    "key_words = [\"average\", \"temperature\", \"distance\"]"
   ]
  },
  {
   "cell_type": "code",
   "execution_count": 8,
   "metadata": {},
   "outputs": [
    {
     "name": "stdout",
     "output_type": "stream",
     "text": [
      "\n",
      "On average, the Moon moves 4cm away from the Earth every year\n"
     ]
    }
   ],
   "source": [
    "for sentence in text_parts:\n",
    "    for key_word in key_words:\n",
    "        if key_word in sentence:\n",
    "            print(sentence)\n",
    "            break"
   ]
  },
  {
   "cell_type": "code",
   "execution_count": 9,
   "metadata": {},
   "outputs": [
    {
     "name": "stdout",
     "output_type": "stream",
     "text": [
      "\n",
      "On average, the Moon moves 4cm away from the Earth every year\n"
     ]
    }
   ],
   "source": [
    "for sentence in text_parts:\n",
    "    for key_word in key_words:\n",
    "        if key_word in sentence:\n",
    "            print(sentence.replace(' C', ' Celsius'))\n",
    "            break"
   ]
  },
  {
   "cell_type": "markdown",
   "metadata": {},
   "source": [
    "# Ejercicio 2: Formateando Cadenas"
   ]
  },
  {
   "cell_type": "code",
   "execution_count": 23,
   "metadata": {},
   "outputs": [
    {
     "name": "stdout",
     "output_type": "stream",
     "text": [
      "-------------------------------------------------------------------------------- \n",
      "Nombre del planeta: Earth \n",
      "Gravedad en Moon: 1.6199999999999999 m/s2 \n",
      "\n",
      "-------------------------------------------------------------------------------- \n",
      "Nombre del planeta: Earth \n",
      "Gravedad en Moon: 1.6199999999999999 m/s2 \n",
      "\n",
      "\n",
      "Datos de Gravedad sobre: Ganímedes\n",
      "-------------------------------------------------------------------------------\n",
      "Nombre del planeta: Marte\n",
      "Gravedad en Ganímedes: 0.00143 m/s2\n",
      "\n",
      "\n",
      "Datos de Gravedad sobre: Ganímedes\n",
      "-------------------------------------------------------------------------------\n",
      "Nombre del planeta: Marte\n",
      "Gravedad en Ganímedes: 1.4300000000000002 m/s2\n",
      "\n"
     ]
    }
   ],
   "source": [
    "name = \"Moon\"\n",
    "gravity = 0.00162 # in kms\n",
    "planet = \"Earth\"\n",
    "\n",
    "title = f'datos de gravedad sobre {name}'\n",
    "\n",
    "hechos = f\"\"\"{'-'*80} \n",
    "Nombre del planeta: {planet} \n",
    "Gravedad en {name}: {gravity * 1000} m/s2 \n",
    "\"\"\"\n",
    "template = f\"\"\"{title.title()} \n",
    "{hechos} \n",
    "\"\"\" \n",
    "print(hechos)\n",
    "\n",
    "planet = 'Marte'\n",
    "gravity  = 0.00143\n",
    "name = 'Ganímedes'\n",
    "\n",
    "print(hechos)\n",
    "\n",
    "new_template = \"\"\"\n",
    "Datos de Gravedad sobre: {nombre}\n",
    "-------------------------------------------------------------------------------\n",
    "Nombre del planeta: {planeta}\n",
    "Gravedad en {nombre}: {gravedad} m/s2\n",
    "\"\"\"\n",
    "print(new_template.format(nombre=name, planeta=planet, gravedad=gravity))\n",
    "\n",
    "print(new_template.format(nombre=name, planeta=planet, gravedad=gravity*1000))"
   ]
  }
 ],
 "metadata": {
  "interpreter": {
   "hash": "a61a6d4ad31a24f4994a3d5ca3e82b4b251c2a2937b301ab19a63a6b26b0dc3f"
  },
  "kernelspec": {
   "display_name": "Python 3.10.2 64-bit (windows store)",
   "language": "python",
   "name": "python3"
  },
  "language_info": {
   "codemirror_mode": {
    "name": "ipython",
    "version": 3
   },
   "file_extension": ".py",
   "mimetype": "text/x-python",
   "name": "python",
   "nbconvert_exporter": "python",
   "pygments_lexer": "ipython3",
   "version": "3.10.2"
  },
  "orig_nbformat": 4
 },
 "nbformat": 4,
 "nbformat_minor": 2
}
